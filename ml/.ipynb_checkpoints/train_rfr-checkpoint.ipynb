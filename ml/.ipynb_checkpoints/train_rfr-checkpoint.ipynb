{
 "cells": [
  {
   "cell_type": "code",
   "execution_count": 1,
   "id": "649929aa-7cf5-46a8-9923-811cc4c763b6",
   "metadata": {},
   "source": [
    "import pandas as pd\n",
    "import numpy as np\n",
    "import joblib"
   ],
   "outputs": []
  },
  {
   "cell_type": "code",
   "execution_count": 2,
   "id": "6d1ab232-43d2-400a-bacf-c86acf5ec9fc",
   "metadata": {},
   "source": [
    "np.random.seed(9)"
   ],
   "outputs": []
  },
  {
   "cell_type": "code",
   "execution_count": 3,
   "id": "f5b16d48-1645-4c02-ad9f-bc84caf72283",
   "metadata": {},
   "source": [
    "df = pd.read_csv(\"Disease_symptom_and_patient_profile_dataset.csv\")"
   ],
   "outputs": []
  },
  {
   "cell_type": "code",
   "execution_count": 4,
   "id": "d4f012fb-fb95-4bc8-a6ba-55c4257221c4",
   "metadata": {},
   "source": [
    "df.info()"
   ],
   "outputs": []
  },
  {
   "cell_type": "code",
   "execution_count": 5,
   "id": "4b345980-a6f7-4f25-921b-c509c9333a7d",
   "metadata": {},
   "source": [
    "df.head()"
   ],
   "outputs": []
  },
  {
   "cell_type": "code",
   "execution_count": 6,
   "id": "3cddb843-abce-4c8b-ad9d-b0dd031ceefb",
   "metadata": {},
   "source": [
    "df.nunique()"
   ],
   "outputs": []
  },
  {
   "cell_type": "code",
   "execution_count": 7,
   "id": "1bb9d6b6-6b6d-4e98-a2d6-e18be2e4177b",
   "metadata": {},
   "source": [
    "disease_list=df['Disease']"
   ],
   "outputs": []
  },
  {
   "cell_type": "code",
   "execution_count": 8,
   "id": "29fef302-3d81-450c-bb1b-0d02c0c940db",
   "metadata": {},
   "source": [
    "df = df.iloc[:,1:]\n",
    "df.head()"
   ],
   "outputs": []
  },
  {
   "cell_type": "code",
   "execution_count": 9,
   "id": "7cbde120-41c6-486e-880f-a30675696676",
   "metadata": {},
   "source": [
    "from sklearn.model_selection import train_test_split\n",
    "x_train,x_test,y_train,y_test = train_test_split(df.iloc[:,:8],df.iloc[:,-1], test_size=0.15)"
   ],
   "outputs": []
  },
  {
   "cell_type": "code",
   "execution_count": 10,
   "id": "9b2be3a3-9f5e-46e0-b1fb-354b31e69b32",
   "metadata": {},
   "source": [
    "from sklearn.preprocessing import OneHotEncoder\n",
    "from sklearn.preprocessing import OrdinalEncoder"
   ],
   "outputs": []
  },
  {
   "cell_type": "code",
   "execution_count": 11,
   "id": "9f1a2e76-a078-4f99-9cae-a05bc9b3c182",
   "metadata": {},
   "source": [
    "oe = OrdinalEncoder(categories=[['No','Yes']])\n",
    "x_train_fever = oe.fit_transform(x_train[\"Fever\"].array.reshape(-1, 1))\n",
    "x_test_fever = oe.transform(x_test[\"Fever\"].array.reshape(-1, 1))\n",
    "\n",
    "be = OrdinalEncoder(categories=[['No','Yes']])\n",
    "x_train_cough = be.fit_transform(x_train[\"Cough\"].array.reshape(-1, 1))\n",
    "x_test_cough = be.transform(x_test[\"Cough\"].array.reshape(-1, 1))\n",
    "\n",
    "ce = OrdinalEncoder(categories=[['No','Yes']])\n",
    "x_train_fat = ce.fit_transform(x_train[\"Fatigue\"].array.reshape(-1, 1))\n",
    "x_test_fat = ce.transform(x_test[\"Fatigue\"].array.reshape(-1, 1))\n",
    "\n",
    "de = OrdinalEncoder(categories=[['No','Yes']])\n",
    "x_train_breath = de.fit_transform(x_train[\"Difficulty Breathing\"].array.reshape(-1, 1))\n",
    "x_test_breath = de.transform(x_test[\"Difficulty Breathing\"].array.reshape(-1, 1))\n",
    "\n",
    "fe = OrdinalEncoder(categories=[['Low','Normal',\"High\"]])\n",
    "x_train_blood = fe.fit_transform(x_train[\"Blood Pressure\"].array.reshape(-1, 1))\n",
    "x_test_blood = fe.transform(x_test[\"Blood Pressure\"].array.reshape(-1, 1))\n",
    "\n",
    "ge = OrdinalEncoder(categories=[['Low','Normal',\"High\"]])\n",
    "x_train_chol = ge.fit_transform(x_train[\"Cholesterol Level\"].array.reshape(-1, 1))\n",
    "x_test_chol = ge.transform(x_test[\"Cholesterol Level\"].array.reshape(-1, 1))\n",
    "\n",
    "ohe = OneHotEncoder(drop='first',sparse_output=False)\n",
    "x_train_gender = ohe.fit_transform(x_train['Gender'].array.reshape(-1, 1))\n",
    "x_test_gender = ohe.transform(x_test['Gender'].array.reshape(-1, 1))\n",
    "\n",
    "x_train_age = [[i]for i in x_train[\"Age\"]]\n",
    "x_train_age=np.array(x_train_age)\n",
    "x_test_age = [[i]for i in x_test[\"Age\"]] \n",
    "x_test_age=np.array(x_test_age)"
   ],
   "outputs": []
  },
  {
   "cell_type": "code",
   "execution_count": 12,
   "id": "edf41cfb-999c-4ba7-9218-8c05ac617553",
   "metadata": {},
   "source": [
    "x_train_transformed = np.concatenate((x_train_fever,x_train_cough,x_train_fat,x_train_breath,x_train_age,x_train_gender,x_train_blood,x_train_chol),axis=1)\n",
    "\n",
    "x_test_transformed = np.concatenate((x_test_fever,x_test_cough,x_test_fat,x_test_breath,x_test_age,x_test_gender,x_test_blood,x_test_chol),axis=1)"
   ],
   "outputs": []
  },
  {
   "cell_type": "code",
   "execution_count": 13,
   "id": "745a89d7-ba31-453e-99a9-5f1f2dc28134",
   "metadata": {},
   "source": [
    "from sklearn.preprocessing import LabelEncoder\n",
    "\n",
    "le = LabelEncoder()\n",
    "le.fit(y_train)\n",
    "\n",
    "y_train = le.transform(y_train)\n",
    "y_test = le.transform(y_test)\n",
    "\n"
   ],
   "outputs": []
  },
  {
   "cell_type": "code",
   "execution_count": 14,
   "id": "2daf904d-1312-4f76-ba5e-47b3b6d3176d",
   "metadata": {},
   "source": [
    "# from sklearn.neighbors import KNeighborsClassifier\n",
    "# \n",
    "\n",
    "# knn = KNeighborsClassifier()\n",
    "# knn.fit(x_train_transformed,y_train)\n",
    "\n",
    "# kpred = knn.predict(x_test_transformed)\n",
    "# accuracy_score(kpred,y_test)"
   ],
   "outputs": []
  },
  {
   "cell_type": "code",
   "execution_count": 15,
   "id": "5b70b708-55e0-48aa-ba19-5cb611dc925d",
   "metadata": {},
   "source": [
    "from sklearn.ensemble import RandomForestClassifier\n",
    "from sklearn.metrics import accuracy_score\n",
    "\n",
    "rfr = RandomForestClassifier()\n",
    "rfr.fit(x_train_transformed,y_train)\n",
    "\n",
    "fpred=rfr.predict(x_test_transformed)\n",
    "accuracy_score(fpred,y_test)\n"
   ],
   "outputs": []
  },
  {
   "cell_type": "code",
   "execution_count": 16,
   "id": "543c0954-d05b-4f3a-8437-0b1dba1bfe80",
   "metadata": {},
   "source": [
    "# x_test_transformed"
   ],
   "outputs": []
  },
  {
   "cell_type": "code",
   "execution_count": 17,
   "id": "1bab26a9-0ede-42a9-911e-c1b3debf746a",
   "metadata": {},
   "source": [
    "# joblib.dump(knn, \"knn_model.pkl\") \n",
    "joblib.dump(rfr, \"rfr_model.pkl\") "
   ],
   "outputs": []
  },
  {
   "cell_type": "code",
   "execution_count": 18,
   "id": "e4c6b6aa-dce9-48f9-a31b-d44c91cae7c8",
   "metadata": {},
   "source": [
    "# rfr.predict([[ 0.,  0.,  1.,  0.,  1., 45.,  2.,  0.]])"
   ],
   "outputs": []
  },
  {
   "cell_type": "code",
   "execution_count": null,
   "id": "e63b9e11-6547-4278-81f8-365a8323f6f6",
   "metadata": {},
   "source": [],
   "outputs": []
  }
 ],
 "metadata": {
  "kernelspec": {
   "display_name": "Python 3 (ipykernel)",
   "language": "python",
   "name": "python3"
  },
  "language_info": {
   "codemirror_mode": {
    "name": "ipython",
    "version": 3
   },
   "file_extension": ".py",
   "mimetype": "text/x-python",
   "name": "python",
   "nbconvert_exporter": "python",
   "pygments_lexer": "ipython3",
   "version": "3.12.3"
  }
 },
 "nbformat": 4,
 "nbformat_minor": 5
}
