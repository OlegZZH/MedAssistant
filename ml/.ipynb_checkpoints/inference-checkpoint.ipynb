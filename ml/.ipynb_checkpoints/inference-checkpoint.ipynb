{
 "cells": [
  {
   "cell_type": "code",
   "execution_count": 1,
   "id": "eddecf27-6662-4192-889c-d7fd15713bf7",
   "metadata": {},
   "source": [
    "import joblib\n",
    "import pandas as pd\n",
    "import numpy as np\n",
    "from sklearn.model_selection import train_test_split\n",
    "from sklearn.preprocessing import OneHotEncoder\n",
    "from sklearn.preprocessing import OrdinalEncoder\n",
    "from tensorflow.keras.models import load_model\n",
    "from sklearn.preprocessing import LabelEncoder\n",
    "import tensorflow as tf\n",
    "\n",
    "\n",
    "df = pd.read_csv(\"Disease_symptom_and_patient_profile_dataset.csv\")\n",
    "target=df[\"Disease\"]\n",
    "df = df.iloc[:,1:]\n",
    "\n",
    "x_train,x_test,y_train,y_test = train_test_split(df.iloc[:,:8],df.iloc[:,-1], test_size=0.15)\n",
    "\n",
    "oe = OrdinalEncoder(categories=[['No','Yes']])\n",
    "x_train_fever = oe.fit_transform(x_train[\"Fever\"].array.reshape(-1, 1))\n",
    "be = OrdinalEncoder(categories=[['No','Yes']])\n",
    "x_train_cough = be.fit_transform(x_train[\"Cough\"].array.reshape(-1, 1))\n",
    "ce = OrdinalEncoder(categories=[['No','Yes']])\n",
    "x_train_fat = ce.fit_transform(x_train[\"Fatigue\"].array.reshape(-1, 1))\n",
    "de = OrdinalEncoder(categories=[['No','Yes']])\n",
    "x_train_breath = de.fit_transform(x_train[\"Difficulty Breathing\"].array.reshape(-1, 1))\n",
    "fe = OrdinalEncoder(categories=[['Low','Normal',\"High\"]])\n",
    "x_train_blood = fe.fit_transform(x_train[\"Blood Pressure\"].array.reshape(-1, 1))\n",
    "ge = OrdinalEncoder(categories=[['Low','Normal',\"High\"]])\n",
    "x_train_chol = ge.fit_transform(x_train[\"Cholesterol Level\"].array.reshape(-1, 1))\n",
    "ohe = OneHotEncoder(drop='first',sparse_output=False)\n",
    "x_train_gender = ohe.fit_transform(x_train['Gender'].array.reshape(-1, 1))\n",
    "\n",
    "\n",
    "le = LabelEncoder()\n",
    "le.fit(target)"
   ],
   "outputs": []
  },
  {
   "cell_type": "code",
   "execution_count": 2,
   "id": "3d749150-6c6e-4ffb-a57c-98911366437c",
   "metadata": {},
   "source": [
    "def make_inference(model_path:str, symptoms:dict):\n",
    "    '''\n",
    "    Значення в словнику мають обовязково йти в такому порядку:\n",
    "    Fever, Cough, Fatigue, Difficulty Breathing, Blood Pressure, Age, Cholesterol Level, Gender\n",
    "    '''\n",
    "    \n",
    "    symptoms['Fever']= oe.transform([[symptoms[\"Fever\"]]])[0][0]\n",
    "    symptoms['Cough']=be.transform([[symptoms[\"Cough\"]]])[0][0]\n",
    "    symptoms['Fatigue']=ce.transform([[symptoms[\"Fatigue\"]]])[0][0]\n",
    "    symptoms['Difficulty Breathing']=de.transform([[symptoms[\"Difficulty Breathing\"]]])[0][0]\n",
    "    symptoms['Blood Pressure']= fe.transform([[symptoms[\"Blood Pressure\"]]])[0][0]\n",
    "    symptoms['Age']=int(symptoms['Age'])\n",
    "    symptoms['Cholesterol Level']=ge.transform([[symptoms[\"Cholesterol Level\"]]])[0][0]\n",
    "    symptoms['Gender']=ohe.transform([[symptoms['Gender']]])[0][0]\n",
    "    \n",
    "    symptoms=[list(symptoms.values())]\n",
    "    \n",
    "    numbers = [str(int(num)) for num in symptoms[0]]\n",
    "    conumbers = ''.join(numbers)\n",
    "    np.random.seed(int(conumbers))\n",
    "    \n",
    "    rfr=joblib.load(model_path)\n",
    "    \n",
    "    prediction=rfr.predict(symptoms)\n",
    "    if prediction[0]==0:\n",
    "        return 'The patient is healthy!!!'\n",
    "    else: \n",
    "        model=load_model('checkpoint.keras')\n",
    "        net_pred= model.predict(np.array(symptoms))\n",
    "        return le.classes_[np.argmax(net_pred, axis = -1)[0]]\n"
   ],
   "outputs": []
  },
  {
   "cell_type": "code",
   "execution_count": 3,
   "id": "ff9a0e61-f2b4-4331-92a6-d9e4520d7616",
   "metadata": {},
   "source": [
    "data={\n",
    "    'Fever': 'Yes',\n",
    "    'Cough':'No',\n",
    "    'Fatigue':'Yes',\n",
    "    'Difficulty Breathing':'Yes',\n",
    "    'Age': 20,\n",
    "    'Gender': 'Female',\n",
    "    'Blood Pressure':'High',\n",
    "    'Cholesterol Level' : 'High',\n",
    "    \n",
    "}\n",
    "make_inference('rfr_model.pkl',data)  "
   ],
   "outputs": []
  },
  {
   "cell_type": "code",
   "execution_count": 4,
   "id": "93a4d660-a027-4d9c-ac0d-9d4a6adc47ea",
   "metadata": {},
   "source": [
    "data={\n",
    "    'Fever': 'Yes',\n",
    "    'Cough':'Yes',\n",
    "    'Fatigue':'Yes',\n",
    "    'Difficulty Breathing':'Yes',\n",
    "    'Age': 50,\n",
    "    'Gender': 'Male',\n",
    "    'Blood Pressure':'Low',\n",
    "    'Cholesterol Level' : 'Low'\n",
    "}\n",
    "make_inference('rfr_model.pkl',data)  "
   ],
   "outputs": []
  },
  {
   "cell_type": "code",
   "execution_count": null,
   "id": "ea11c737-76be-4379-a379-40761fcc155f",
   "metadata": {},
   "source": [],
   "outputs": []
  }
 ],
 "metadata": {
  "kernelspec": {
   "display_name": "Python 3 (ipykernel)",
   "language": "python",
   "name": "python3"
  },
  "language_info": {
   "codemirror_mode": {
    "name": "ipython",
    "version": 3
   },
   "file_extension": ".py",
   "mimetype": "text/x-python",
   "name": "python",
   "nbconvert_exporter": "python",
   "pygments_lexer": "ipython3",
   "version": "3.12.3"
  }
 },
 "nbformat": 4,
 "nbformat_minor": 5
}
