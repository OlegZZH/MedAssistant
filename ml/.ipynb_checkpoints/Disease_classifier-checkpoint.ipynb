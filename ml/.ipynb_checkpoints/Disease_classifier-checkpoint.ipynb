{
 "cells": [
  {
   "cell_type": "code",
   "execution_count": 1,
   "id": "649929aa-7cf5-46a8-9923-811cc4c763b6",
   "metadata": {},
   "outputs": [],
   "source": [
    "import pandas as pd\n",
    "import numpy as np\n",
    "import seaborn as sns\n",
    "import matplotlib.pyplot as plt"
   ]
  },
  {
   "cell_type": "code",
   "execution_count": 2,
   "id": "6d1ab232-43d2-400a-bacf-c86acf5ec9fc",
   "metadata": {},
   "outputs": [],
   "source": [
    "np.random.seed(9)"
   ]
  },
  {
   "cell_type": "code",
   "execution_count": 3,
   "id": "f5b16d48-1645-4c02-ad9f-bc84caf72283",
   "metadata": {},
   "outputs": [],
   "source": [
    "df = pd.read_csv(\"Disease_symptom_and_patient_profile_dataset.csv\")"
   ]
  },
  {
   "cell_type": "code",
   "execution_count": 4,
   "id": "d4f012fb-fb95-4bc8-a6ba-55c4257221c4",
   "metadata": {},
   "outputs": [
    {
     "name": "stdout",
     "output_type": "stream",
     "text": [
      "<class 'pandas.core.frame.DataFrame'>\n",
      "RangeIndex: 349 entries, 0 to 348\n",
      "Data columns (total 10 columns):\n",
      " #   Column                Non-Null Count  Dtype \n",
      "---  ------                --------------  ----- \n",
      " 0   Disease               349 non-null    object\n",
      " 1   Fever                 349 non-null    object\n",
      " 2   Cough                 349 non-null    object\n",
      " 3   Fatigue               349 non-null    object\n",
      " 4   Difficulty Breathing  349 non-null    object\n",
      " 5   Age                   349 non-null    int64 \n",
      " 6   Gender                349 non-null    object\n",
      " 7   Blood Pressure        349 non-null    object\n",
      " 8   Cholesterol Level     349 non-null    object\n",
      " 9   Outcome Variable      349 non-null    object\n",
      "dtypes: int64(1), object(9)\n",
      "memory usage: 27.4+ KB\n"
     ]
    }
   ],
   "source": [
    "df.info()"
   ]
  },
  {
   "cell_type": "code",
   "execution_count": 5,
   "id": "4b345980-a6f7-4f25-921b-c509c9333a7d",
   "metadata": {},
   "outputs": [
    {
     "data": {
      "text/html": [
       "<div>\n",
       "<style scoped>\n",
       "    .dataframe tbody tr th:only-of-type {\n",
       "        vertical-align: middle;\n",
       "    }\n",
       "\n",
       "    .dataframe tbody tr th {\n",
       "        vertical-align: top;\n",
       "    }\n",
       "\n",
       "    .dataframe thead th {\n",
       "        text-align: right;\n",
       "    }\n",
       "</style>\n",
       "<table border=\"1\" class=\"dataframe\">\n",
       "  <thead>\n",
       "    <tr style=\"text-align: right;\">\n",
       "      <th></th>\n",
       "      <th>Disease</th>\n",
       "      <th>Fever</th>\n",
       "      <th>Cough</th>\n",
       "      <th>Fatigue</th>\n",
       "      <th>Difficulty Breathing</th>\n",
       "      <th>Age</th>\n",
       "      <th>Gender</th>\n",
       "      <th>Blood Pressure</th>\n",
       "      <th>Cholesterol Level</th>\n",
       "      <th>Outcome Variable</th>\n",
       "    </tr>\n",
       "  </thead>\n",
       "  <tbody>\n",
       "    <tr>\n",
       "      <th>0</th>\n",
       "      <td>Influenza</td>\n",
       "      <td>Yes</td>\n",
       "      <td>No</td>\n",
       "      <td>Yes</td>\n",
       "      <td>Yes</td>\n",
       "      <td>19</td>\n",
       "      <td>Female</td>\n",
       "      <td>Low</td>\n",
       "      <td>Normal</td>\n",
       "      <td>Positive</td>\n",
       "    </tr>\n",
       "    <tr>\n",
       "      <th>1</th>\n",
       "      <td>Common Cold</td>\n",
       "      <td>No</td>\n",
       "      <td>Yes</td>\n",
       "      <td>Yes</td>\n",
       "      <td>No</td>\n",
       "      <td>25</td>\n",
       "      <td>Female</td>\n",
       "      <td>Normal</td>\n",
       "      <td>Normal</td>\n",
       "      <td>Negative</td>\n",
       "    </tr>\n",
       "    <tr>\n",
       "      <th>2</th>\n",
       "      <td>Eczema</td>\n",
       "      <td>No</td>\n",
       "      <td>Yes</td>\n",
       "      <td>Yes</td>\n",
       "      <td>No</td>\n",
       "      <td>25</td>\n",
       "      <td>Female</td>\n",
       "      <td>Normal</td>\n",
       "      <td>Normal</td>\n",
       "      <td>Negative</td>\n",
       "    </tr>\n",
       "    <tr>\n",
       "      <th>3</th>\n",
       "      <td>Asthma</td>\n",
       "      <td>Yes</td>\n",
       "      <td>Yes</td>\n",
       "      <td>No</td>\n",
       "      <td>Yes</td>\n",
       "      <td>25</td>\n",
       "      <td>Male</td>\n",
       "      <td>Normal</td>\n",
       "      <td>Normal</td>\n",
       "      <td>Positive</td>\n",
       "    </tr>\n",
       "    <tr>\n",
       "      <th>4</th>\n",
       "      <td>Asthma</td>\n",
       "      <td>Yes</td>\n",
       "      <td>Yes</td>\n",
       "      <td>No</td>\n",
       "      <td>Yes</td>\n",
       "      <td>25</td>\n",
       "      <td>Male</td>\n",
       "      <td>Normal</td>\n",
       "      <td>Normal</td>\n",
       "      <td>Positive</td>\n",
       "    </tr>\n",
       "  </tbody>\n",
       "</table>\n",
       "</div>"
      ],
      "text/plain": [
       "       Disease Fever Cough Fatigue Difficulty Breathing  Age  Gender  \\\n",
       "0    Influenza   Yes    No     Yes                  Yes   19  Female   \n",
       "1  Common Cold    No   Yes     Yes                   No   25  Female   \n",
       "2       Eczema    No   Yes     Yes                   No   25  Female   \n",
       "3       Asthma   Yes   Yes      No                  Yes   25    Male   \n",
       "4       Asthma   Yes   Yes      No                  Yes   25    Male   \n",
       "\n",
       "  Blood Pressure Cholesterol Level Outcome Variable  \n",
       "0            Low            Normal         Positive  \n",
       "1         Normal            Normal         Negative  \n",
       "2         Normal            Normal         Negative  \n",
       "3         Normal            Normal         Positive  \n",
       "4         Normal            Normal         Positive  "
      ]
     },
     "execution_count": 5,
     "metadata": {},
     "output_type": "execute_result"
    }
   ],
   "source": [
    "df.head()"
   ]
  },
  {
   "cell_type": "code",
   "execution_count": 6,
   "id": "3cddb843-abce-4c8b-ad9d-b0dd031ceefb",
   "metadata": {},
   "outputs": [
    {
     "data": {
      "text/plain": [
       "Disease                 116\n",
       "Fever                     2\n",
       "Cough                     2\n",
       "Fatigue                   2\n",
       "Difficulty Breathing      2\n",
       "Age                      26\n",
       "Gender                    2\n",
       "Blood Pressure            3\n",
       "Cholesterol Level         3\n",
       "Outcome Variable          2\n",
       "dtype: int64"
      ]
     },
     "execution_count": 6,
     "metadata": {},
     "output_type": "execute_result"
    }
   ],
   "source": [
    "df.nunique()"
   ]
  },
  {
   "cell_type": "code",
   "execution_count": 7,
   "id": "29fef302-3d81-450c-bb1b-0d02c0c940db",
   "metadata": {},
   "outputs": [
    {
     "data": {
      "text/html": [
       "<div>\n",
       "<style scoped>\n",
       "    .dataframe tbody tr th:only-of-type {\n",
       "        vertical-align: middle;\n",
       "    }\n",
       "\n",
       "    .dataframe tbody tr th {\n",
       "        vertical-align: top;\n",
       "    }\n",
       "\n",
       "    .dataframe thead th {\n",
       "        text-align: right;\n",
       "    }\n",
       "</style>\n",
       "<table border=\"1\" class=\"dataframe\">\n",
       "  <thead>\n",
       "    <tr style=\"text-align: right;\">\n",
       "      <th></th>\n",
       "      <th>Fever</th>\n",
       "      <th>Cough</th>\n",
       "      <th>Fatigue</th>\n",
       "      <th>Difficulty Breathing</th>\n",
       "      <th>Age</th>\n",
       "      <th>Gender</th>\n",
       "      <th>Blood Pressure</th>\n",
       "      <th>Cholesterol Level</th>\n",
       "      <th>Outcome Variable</th>\n",
       "    </tr>\n",
       "  </thead>\n",
       "  <tbody>\n",
       "    <tr>\n",
       "      <th>0</th>\n",
       "      <td>Yes</td>\n",
       "      <td>No</td>\n",
       "      <td>Yes</td>\n",
       "      <td>Yes</td>\n",
       "      <td>19</td>\n",
       "      <td>Female</td>\n",
       "      <td>Low</td>\n",
       "      <td>Normal</td>\n",
       "      <td>Positive</td>\n",
       "    </tr>\n",
       "    <tr>\n",
       "      <th>1</th>\n",
       "      <td>No</td>\n",
       "      <td>Yes</td>\n",
       "      <td>Yes</td>\n",
       "      <td>No</td>\n",
       "      <td>25</td>\n",
       "      <td>Female</td>\n",
       "      <td>Normal</td>\n",
       "      <td>Normal</td>\n",
       "      <td>Negative</td>\n",
       "    </tr>\n",
       "    <tr>\n",
       "      <th>2</th>\n",
       "      <td>No</td>\n",
       "      <td>Yes</td>\n",
       "      <td>Yes</td>\n",
       "      <td>No</td>\n",
       "      <td>25</td>\n",
       "      <td>Female</td>\n",
       "      <td>Normal</td>\n",
       "      <td>Normal</td>\n",
       "      <td>Negative</td>\n",
       "    </tr>\n",
       "    <tr>\n",
       "      <th>3</th>\n",
       "      <td>Yes</td>\n",
       "      <td>Yes</td>\n",
       "      <td>No</td>\n",
       "      <td>Yes</td>\n",
       "      <td>25</td>\n",
       "      <td>Male</td>\n",
       "      <td>Normal</td>\n",
       "      <td>Normal</td>\n",
       "      <td>Positive</td>\n",
       "    </tr>\n",
       "    <tr>\n",
       "      <th>4</th>\n",
       "      <td>Yes</td>\n",
       "      <td>Yes</td>\n",
       "      <td>No</td>\n",
       "      <td>Yes</td>\n",
       "      <td>25</td>\n",
       "      <td>Male</td>\n",
       "      <td>Normal</td>\n",
       "      <td>Normal</td>\n",
       "      <td>Positive</td>\n",
       "    </tr>\n",
       "  </tbody>\n",
       "</table>\n",
       "</div>"
      ],
      "text/plain": [
       "  Fever Cough Fatigue Difficulty Breathing  Age  Gender Blood Pressure  \\\n",
       "0   Yes    No     Yes                  Yes   19  Female            Low   \n",
       "1    No   Yes     Yes                   No   25  Female         Normal   \n",
       "2    No   Yes     Yes                   No   25  Female         Normal   \n",
       "3   Yes   Yes      No                  Yes   25    Male         Normal   \n",
       "4   Yes   Yes      No                  Yes   25    Male         Normal   \n",
       "\n",
       "  Cholesterol Level Outcome Variable  \n",
       "0            Normal         Positive  \n",
       "1            Normal         Negative  \n",
       "2            Normal         Negative  \n",
       "3            Normal         Positive  \n",
       "4            Normal         Positive  "
      ]
     },
     "execution_count": 7,
     "metadata": {},
     "output_type": "execute_result"
    }
   ],
   "source": [
    "df = df.iloc[:,1:]\n",
    "df.head()"
   ]
  },
  {
   "cell_type": "code",
   "execution_count": 8,
   "id": "7cbde120-41c6-486e-880f-a30675696676",
   "metadata": {},
   "outputs": [],
   "source": [
    "from sklearn.model_selection import train_test_split\n",
    "x_train,x_test,y_train,y_test = train_test_split(df.iloc[:,:8],df.iloc[:,-1], test_size=0.15)"
   ]
  },
  {
   "cell_type": "code",
   "execution_count": 9,
   "id": "9b2be3a3-9f5e-46e0-b1fb-354b31e69b32",
   "metadata": {},
   "outputs": [],
   "source": [
    "from sklearn.preprocessing import OneHotEncoder\n",
    "from sklearn.preprocessing import OrdinalEncoder"
   ]
  },
  {
   "cell_type": "code",
   "execution_count": 10,
   "id": "9f1a2e76-a078-4f99-9cae-a05bc9b3c182",
   "metadata": {},
   "outputs": [],
   "source": [
    "oe = OrdinalEncoder(categories=[['No','Yes']])\n",
    "x_train_fever = oe.fit_transform(x_train[\"Fever\"].array.reshape(-1, 1))\n",
    "x_test_fever = oe.transform(x_test[\"Fever\"].array.reshape(-1, 1))\n",
    "\n",
    "be = OrdinalEncoder(categories=[['No','Yes']])\n",
    "x_train_cough = be.fit_transform(x_train[\"Cough\"].array.reshape(-1, 1))\n",
    "x_test_cough = be.transform(x_test[\"Cough\"].array.reshape(-1, 1))\n",
    "\n",
    "ce = OrdinalEncoder(categories=[['No','Yes']])\n",
    "x_train_fat = ce.fit_transform(x_train[\"Fatigue\"].array.reshape(-1, 1))\n",
    "x_test_fat = ce.transform(x_test[\"Fatigue\"].array.reshape(-1, 1))\n",
    "\n",
    "de = OrdinalEncoder(categories=[['No','Yes']])\n",
    "x_train_breath = de.fit_transform(x_train[\"Difficulty Breathing\"].array.reshape(-1, 1))\n",
    "x_test_breath = de.transform(x_test[\"Difficulty Breathing\"].array.reshape(-1, 1))\n",
    "\n",
    "fe = OrdinalEncoder(categories=[['Low','Normal',\"High\"]])\n",
    "x_train_blood = fe.fit_transform(x_train[\"Blood Pressure\"].array.reshape(-1, 1))\n",
    "x_test_blood = fe.transform(x_test[\"Blood Pressure\"].array.reshape(-1, 1))\n",
    "\n",
    "ge = OrdinalEncoder(categories=[['Low','Normal',\"High\"]])\n",
    "x_train_chol = ge.fit_transform(x_train[\"Cholesterol Level\"].array.reshape(-1, 1))\n",
    "x_test_chol = ge.transform(x_test[\"Cholesterol Level\"].array.reshape(-1, 1))\n",
    "\n",
    "ohe = OneHotEncoder(drop='first',sparse_output=False)\n",
    "x_train_gender = ohe.fit_transform(x_train['Gender'].array.reshape(-1, 1))\n",
    "x_test_gender = ohe.transform(x_test['Gender'].array.reshape(-1, 1))\n",
    "\n",
    "x_train_age = [[i]for i in x_train[\"Age\"]]\n",
    "x_train_age=np.array(x_train_age)\n",
    "x_test_age = [[i]for i in x_test[\"Age\"]] \n",
    "x_test_age=np.array(x_test_age)"
   ]
  },
  {
   "cell_type": "code",
   "execution_count": 11,
   "id": "edf41cfb-999c-4ba7-9218-8c05ac617553",
   "metadata": {},
   "outputs": [],
   "source": [
    "x_train_transformed = np.concatenate((x_train_fever,x_train_cough,x_train_fat,x_train_breath,x_train_blood,x_train_age,x_train_chol,x_train_gender),axis=1)\n",
    "\n",
    "x_test_transformed = np.concatenate((x_test_fever,x_test_cough,x_test_fat,x_test_breath,x_test_blood,x_test_age,x_test_chol,x_test_gender),axis=1)"
   ]
  },
  {
   "cell_type": "code",
   "execution_count": 12,
   "id": "745a89d7-ba31-453e-99a9-5f1f2dc28134",
   "metadata": {},
   "outputs": [],
   "source": [
    "from sklearn.preprocessing import LabelEncoder\n",
    "\n",
    "le = LabelEncoder()\n",
    "le.fit(y_train)\n",
    "\n",
    "y_train = le.transform(y_train)\n",
    "y_test = le.transform(y_test)\n",
    "\n"
   ]
  },
  {
   "cell_type": "code",
   "execution_count": 13,
   "id": "2daf904d-1312-4f76-ba5e-47b3b6d3176d",
   "metadata": {},
   "outputs": [
    {
     "data": {
      "text/plain": [
       "0.6981132075471698"
      ]
     },
     "execution_count": 13,
     "metadata": {},
     "output_type": "execute_result"
    }
   ],
   "source": [
    "from sklearn.neighbors import KNeighborsClassifier\n",
    "from sklearn.metrics import accuracy_score\n",
    "\n",
    "knn = KNeighborsClassifier()\n",
    "knn.fit(x_train_transformed,y_train)\n",
    "\n",
    "kpred = knn.predict(x_test_transformed)\n",
    "accuracy_score(kpred,y_test)"
   ]
  },
  {
   "cell_type": "code",
   "execution_count": 14,
   "id": "5b70b708-55e0-48aa-ba19-5cb611dc925d",
   "metadata": {},
   "outputs": [
    {
     "data": {
      "text/plain": [
       "0.8867924528301887"
      ]
     },
     "execution_count": 14,
     "metadata": {},
     "output_type": "execute_result"
    }
   ],
   "source": [
    "from sklearn.ensemble import RandomForestClassifier\n",
    "\n",
    "rfr = RandomForestClassifier()\n",
    "rfr.fit(x_train_transformed,y_train)\n",
    "\n",
    "fpred=rfr.predict(x_test_transformed)\n",
    "accuracy_score(fpred,y_test)\n"
   ]
  },
  {
   "cell_type": "code",
   "execution_count": 15,
   "id": "543c0954-d05b-4f3a-8437-0b1dba1bfe80",
   "metadata": {},
   "outputs": [
    {
     "data": {
      "text/plain": [
       "array([[ 1.,  0.,  1.,  1.,  0., 35.,  2.,  1.],\n",
       "       [ 0.,  0.,  0.,  0.,  1., 38.,  0.,  1.],\n",
       "       [ 0.,  1.,  0.,  0.,  1., 70.,  2.,  1.],\n",
       "       [ 0.,  1.,  1.,  1.,  1., 70.,  2.,  1.],\n",
       "       [ 0.,  1.,  1.,  0.,  2., 35.,  2.,  1.],\n",
       "       [ 0.,  0.,  0.,  0.,  0., 29.,  1.,  0.],\n",
       "       [ 1.,  1.,  1.,  0.,  2., 40.,  2.,  1.],\n",
       "       [ 1.,  1.,  1.,  1.,  2., 45.,  2.,  1.],\n",
       "       [ 1.,  0.,  0.,  0.,  1., 45.,  1.,  1.],\n",
       "       [ 1.,  1.,  0.,  1.,  1., 40.,  1.,  0.],\n",
       "       [ 1.,  1.,  1.,  0.,  1., 50.,  2.,  1.],\n",
       "       [ 0.,  0.,  1.,  0.,  1., 50.,  2.,  1.],\n",
       "       [ 0.,  0.,  1.,  0.,  1., 35.,  1.,  1.],\n",
       "       [ 1.,  1.,  1.,  0.,  2., 45.,  2.,  0.],\n",
       "       [ 1.,  1.,  1.,  1.,  1., 30.,  1.,  0.],\n",
       "       [ 0.,  0.,  1.,  0.,  2., 65.,  2.,  0.],\n",
       "       [ 0.,  1.,  1.,  0.,  1., 30.,  1.,  1.],\n",
       "       [ 1.,  0.,  0.,  0.,  1., 50.,  2.,  1.],\n",
       "       [ 1.,  1.,  1.,  0.,  1., 45.,  2.,  0.],\n",
       "       [ 0.,  0.,  1.,  0.,  1., 60.,  1.,  0.],\n",
       "       [ 0.,  0.,  1.,  0.,  2., 55.,  2.,  1.],\n",
       "       [ 1.,  1.,  1.,  1.,  1., 50.,  1.,  1.],\n",
       "       [ 0.,  0.,  1.,  0.,  1., 60.,  1.,  1.],\n",
       "       [ 1.,  1.,  1.,  0.,  2., 60.,  2.,  0.],\n",
       "       [ 0.,  0.,  1.,  0.,  2., 30.,  2.,  0.],\n",
       "       [ 0.,  0.,  1.,  0.,  1., 42.,  0.,  1.],\n",
       "       [ 1.,  1.,  1.,  0.,  2., 35.,  1.,  1.],\n",
       "       [ 0.,  1.,  0.,  0.,  2., 50.,  2.,  0.],\n",
       "       [ 1.,  1.,  0.,  1.,  1., 45.,  1.,  1.],\n",
       "       [ 0.,  1.,  0.,  0.,  1., 50.,  2.,  1.],\n",
       "       [ 1.,  1.,  0.,  0.,  2., 38.,  1.,  0.],\n",
       "       [ 1.,  0.,  1.,  0.,  1., 55.,  1.,  0.],\n",
       "       [ 0.,  0.,  1.,  0.,  1., 55.,  0.,  0.],\n",
       "       [ 1.,  0.,  0.,  0.,  1., 31.,  1.,  0.],\n",
       "       [ 1.,  0.,  1.,  0.,  2., 45.,  1.,  1.],\n",
       "       [ 0.,  1.,  1.,  1.,  1., 45.,  0.,  1.],\n",
       "       [ 1.,  0.,  1.,  0.,  2., 85.,  2.,  1.],\n",
       "       [ 0.,  0.,  1.,  0.,  2., 50.,  2.,  0.],\n",
       "       [ 1.,  1.,  1.,  1.,  1., 29.,  1.,  0.],\n",
       "       [ 1.,  0.,  1.,  0.,  1., 55.,  1.,  1.],\n",
       "       [ 0.,  1.,  0.,  0.,  1., 28.,  1.,  0.],\n",
       "       [ 0.,  1.,  1.,  0.,  2., 65.,  2.,  0.],\n",
       "       [ 0.,  0.,  1.,  0.,  1., 45.,  2.,  0.],\n",
       "       [ 1.,  1.,  0.,  1.,  1., 25.,  1.,  1.],\n",
       "       [ 1.,  0.,  1.,  0.,  2., 80.,  2.,  0.],\n",
       "       [ 1.,  1.,  1.,  1.,  2., 60.,  2.,  0.],\n",
       "       [ 0.,  1.,  0.,  1.,  1., 60.,  1.,  0.],\n",
       "       [ 0.,  1.,  0.,  1.,  0., 38.,  1.,  1.],\n",
       "       [ 0.,  1.,  0.,  0.,  2., 60.,  2.,  1.],\n",
       "       [ 1.,  1.,  1.,  0.,  2., 60.,  1.,  0.],\n",
       "       [ 0.,  1.,  1.,  0.,  2., 35.,  2.,  1.],\n",
       "       [ 1.,  1.,  0.,  0.,  1., 45.,  2.,  1.],\n",
       "       [ 1.,  1.,  1.,  1.,  1., 35.,  1.,  0.]])"
      ]
     },
     "execution_count": 15,
     "metadata": {},
     "output_type": "execute_result"
    }
   ],
   "source": [
    "x_test_transformed"
   ]
  },
  {
   "cell_type": "code",
   "execution_count": null,
   "id": "8f2b4637-7d34-4e21-8b20-a05438af0fd9",
   "metadata": {},
   "outputs": [],
   "source": [
    "def make_inference():\n",
    "    "
   ]
  }
 ],
 "metadata": {
  "kernelspec": {
   "display_name": "Python 3 (ipykernel)",
   "language": "python",
   "name": "python3"
  },
  "language_info": {
   "codemirror_mode": {
    "name": "ipython",
    "version": 3
   },
   "file_extension": ".py",
   "mimetype": "text/x-python",
   "name": "python",
   "nbconvert_exporter": "python",
   "pygments_lexer": "ipython3",
   "version": "3.10.14"
  }
 },
 "nbformat": 4,
 "nbformat_minor": 5
}
